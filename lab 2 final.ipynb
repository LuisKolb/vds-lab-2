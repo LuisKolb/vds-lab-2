{
 "cells": [
  {
   "cell_type": "markdown",
   "metadata": {},
   "source": [
    "# Sentiment on Twitter\n",
    "#### #Covid, #CovidVaccine and #PfizerBioNTech\n",
    "\n",
    "#CovidVaccine from https://www.kaggle.com/kaushiksuresh147/covidvaccine-tweets  \n",
    "#PfizerBioNTech from https://www.kaggle.com/gpreda/pfizer-vaccine-tweets  \n",
    "#Covid19 from https://www.kaggle.com/gpreda/covid19-tweets  \n",
    "\n",
    "To execute the notebook, download the .csv files from the kaggle links and unzip them into `./data`  \n",
    "\n",
    "This notebook uses the nbextension `sideline`, developed by the author of this notebook. Get it on [GitHub](https://github.com/LuisKolb/sideline) for the best experience.  \n",
    "\n",
    "Before running this notebook, make sure to unzip the provided data in ./data!  "
   ]
  },
  {
   "cell_type": "code",
   "execution_count": 1,
   "metadata": {},
   "outputs": [],
   "source": [
    "import pandas as pd\n",
    "import numpy as np\n",
    "import seaborn as sns\n",
    "import matplotlib.pyplot as plt\n",
    "import re\n",
    "import string\n",
    "from string import punctuation \n",
    "import nltk\n",
    "from nltk.corpus import stopwords\n",
    "from nltk.tokenize import word_tokenize\n",
    "from sklearn.feature_extraction.text import TfidfVectorizer\n",
    "from sklearn.model_selection import train_test_split\n",
    "from nltk.stem import PorterStemmer\n",
    "from nltk.stem import WordNetLemmatizer\n",
    "# ML Libraries\n",
    "from sklearn.metrics import accuracy_score\n",
    "from sklearn.naive_bayes import MultinomialNB\n",
    "from sklearn.linear_model import LogisticRegression\n",
    "from sklearn.svm import SVC\n",
    "# vader\n",
    "from vaderSentiment.vaderSentiment import SentimentIntensityAnalyzer\n",
    "# hypothesis testing\n",
    "import statsmodels.api as sm\n",
    "from statsmodels.formula.api import ols\n",
    "import statsmodels.stats.multicomp as mc\n",
    "import scipy.stats as stats\n",
    "\n",
    "# Global Parameters\n",
    "sns.set()\n",
    "pd.set_option('display.max_colwidth', False)"
   ]
  },
  {
   "cell_type": "code",
   "execution_count": 2,
   "metadata": {},
   "outputs": [],
   "source": [
    "\n",
    "covid = pd.read_csv('data/covid19_tweets.csv')\n",
    "covid['hashtag'] = \"#Covid19\"\n",
    "covidvaccine = pd.read_csv('data/covidvaccine.csv')\n",
    "covidvaccine['hashtag'] = \"#CovidVaccine\"\n",
    "pfizer = pd.read_csv('data/vaccination_tweets.csv')\n",
    "pfizer['hashtag'] = \"#PfizerBioNTech\"\n",
    "\n",
    "tweets = pd.concat([covid, covidvaccine, pfizer])\n",
    "#tweets.info()"
   ]
  },
  {
   "cell_type": "code",
   "execution_count": 3,
   "metadata": {},
   "outputs": [],
   "source": [
    "#from https://medium.com/python-in-plain-english/twitter-sentiment-analysis-using-vader-tweepy-b2a62fba151e\n",
    "def remove_pattern(input_txt, pattern):\n",
    "    r = re.findall(pattern, input_txt)\n",
    "    for i in r:\n",
    "        input_txt = re.sub(i, '', input_txt)        \n",
    "    return input_txt\n",
    "\n",
    "def process_tweets(tweets):\n",
    "    #remove twitter Return handles (RT @xxx:)\n",
    "    tweets = np.vectorize(remove_pattern)(tweets, \"RT @[\\w]*:\") \n",
    "    \n",
    "    #remove twitter handles (@xxx)\n",
    "    tweets = np.vectorize(remove_pattern)(tweets, \"@[\\w]*\")\n",
    "    \n",
    "    #remove URL links (httpxxx)\n",
    "    tweets = np.vectorize(remove_pattern)(tweets, \"https?://[A-Za-z0-9./]*\")\n",
    "    \n",
    "    #remove special characters, numbers, punctuations (except for #)\n",
    "    tweets = np.core.defchararray.replace(tweets, \"[^a-zA-Z]\", \" \")\n",
    "    \n",
    "    return tweets"
   ]
  },
  {
   "cell_type": "code",
   "execution_count": 4,
   "metadata": {},
   "outputs": [],
   "source": [
    "tweets['text_processed'] = process_tweets(tweets['text'])"
   ]
  },
  {
   "cell_type": "code",
   "execution_count": 5,
   "metadata": {},
   "outputs": [],
   "source": [
    "analyzer = SentimentIntensityAnalyzer()\n",
    "\n",
    "tweets['scores'] = tweets['text_processed'].apply(lambda text: analyzer.polarity_scores(text))"
   ]
  },
  {
   "cell_type": "code",
   "execution_count": 6,
   "metadata": {},
   "outputs": [],
   "source": [
    "tweets['neg'] = tweets.scores.apply(lambda o: o.get('neg'))\n",
    "tweets['neu'] = tweets.scores.apply(lambda o: o.get('neu'))\n",
    "tweets['pos'] = tweets.scores.apply(lambda o: o.get('pos'))\n",
    "tweets['compound'] = tweets.scores.apply(lambda o: o.get('compound'))\n",
    "#tweets.head()"
   ]
  },
  {
   "cell_type": "code",
   "execution_count": 7,
   "metadata": {},
   "outputs": [],
   "source": [
    "tweets = tweets.replace('\\n','', regex=True)\n",
    "#tweets = tweets.replace('&amp',' ', regex=True)\n",
    "#tweets = tweets.replace('\\s+', ' ', regex=True)"
   ]
  },
  {
   "cell_type": "code",
   "execution_count": 8,
   "metadata": {},
   "outputs": [],
   "source": [
    "#tweets.to_excel('data.xlsx')"
   ]
  },
  {
   "cell_type": "code",
   "execution_count": 9,
   "metadata": {},
   "outputs": [
    {
     "name": "stdout",
     "output_type": "stream",
     "text": [
      "<class 'pandas.core.frame.DataFrame'>\n",
      "Int64Index: 221081 entries, 0 to 3513\n",
      "Data columns (total 23 columns):\n",
      " #   Column            Non-Null Count   Dtype  \n",
      "---  ------            --------------   -----  \n",
      " 0   user_name         221081 non-null  object \n",
      " 1   user_location     175127 non-null  object \n",
      " 2   user_description  208206 non-null  object \n",
      " 3   user_created      221081 non-null  object \n",
      " 4   user_followers    221081 non-null  int64  \n",
      " 5   user_friends      221081 non-null  int64  \n",
      " 6   user_favourites   221081 non-null  int64  \n",
      " 7   user_verified     221081 non-null  bool   \n",
      " 8   date              221081 non-null  object \n",
      " 9   text              221081 non-null  object \n",
      " 10  hashtags          157206 non-null  object \n",
      " 11  source            221002 non-null  object \n",
      " 12  is_retweet        221081 non-null  bool   \n",
      " 13  hashtag           221081 non-null  object \n",
      " 14  id                3514 non-null    float64\n",
      " 15  retweets          3514 non-null    float64\n",
      " 16  favorites         3514 non-null    float64\n",
      " 17  text_processed    221081 non-null  object \n",
      " 18  scores            221081 non-null  object \n",
      " 19  neg               221081 non-null  float64\n",
      " 20  neu               221081 non-null  float64\n",
      " 21  pos               221081 non-null  float64\n",
      " 22  compound          221081 non-null  float64\n",
      "dtypes: bool(2), float64(7), int64(3), object(11)\n",
      "memory usage: 37.5+ MB\n"
     ]
    }
   ],
   "source": [
    "tweets.info()"
   ]
  },
  {
   "cell_type": "code",
   "execution_count": 10,
   "metadata": {},
   "outputs": [],
   "source": [
    "tweets['date'] = pd.to_datetime(tweets['date'])\n",
    "df1 = tweets.copy(deep=True)\n",
    "df1.date = df1.date.dt.normalize()\n",
    "df1 = df1.set_index('hashtag')\n",
    "\n",
    "cov_byDate = df1.loc['#Covid19'].groupby('date').mean()\n",
    "cov_byDate['size'] = df1.loc['#Covid19'].groupby('date').size().to_frame()\n",
    "vax_byDate = df1.loc['#CovidVaccine'].groupby('date').mean()\n",
    "vax_byDate['size'] = df1.loc['#CovidVaccine'].groupby('date').size().to_frame()\n",
    "pfi_byDate = df1.loc['#PfizerBioNTech'].groupby('date').mean()\n",
    "pfi_byDate['size'] = df1.loc['#PfizerBioNTech'].groupby('date').size().to_frame()"
   ]
  },
  {
   "cell_type": "code",
   "execution_count": 11,
   "metadata": {},
   "outputs": [],
   "source": [
    "#cov_byDate.to_excel('cov_byDate.xlsx')\n",
    "#vax_byDate.to_excel('vax_byDate.xlsx')\n",
    "#pfi_byDate.to_excel('pfi_byDate.xlsx')"
   ]
  },
  {
   "cell_type": "code",
   "execution_count": 12,
   "metadata": {
    "scrolled": false
   },
   "outputs": [],
   "source": [
    "#vax_byDate.reset_index()[['date','compound']].head(50)"
   ]
  },
  {
   "cell_type": "code",
   "execution_count": 13,
   "metadata": {},
   "outputs": [
    {
     "data": {
      "text/html": [
       "<div>\n",
       "<style scoped>\n",
       "    .dataframe tbody tr th:only-of-type {\n",
       "        vertical-align: middle;\n",
       "    }\n",
       "\n",
       "    .dataframe tbody tr th {\n",
       "        vertical-align: top;\n",
       "    }\n",
       "\n",
       "    .dataframe thead th {\n",
       "        text-align: right;\n",
       "    }\n",
       "</style>\n",
       "<table border=\"1\" class=\"dataframe\">\n",
       "  <thead>\n",
       "    <tr style=\"text-align: right;\">\n",
       "      <th></th>\n",
       "      <th>hashtag</th>\n",
       "      <th>percentage</th>\n",
       "    </tr>\n",
       "  </thead>\n",
       "  <tbody>\n",
       "    <tr>\n",
       "      <th>0</th>\n",
       "      <td>#Covid19</td>\n",
       "      <td>0.385711</td>\n",
       "    </tr>\n",
       "    <tr>\n",
       "      <th>1</th>\n",
       "      <td>#CovidVaccine</td>\n",
       "      <td>0.449492</td>\n",
       "    </tr>\n",
       "    <tr>\n",
       "      <th>2</th>\n",
       "      <td>#PfizerBioNTech</td>\n",
       "      <td>0.430279</td>\n",
       "    </tr>\n",
       "  </tbody>\n",
       "</table>\n",
       "</div>"
      ],
      "text/plain": [
       "           hashtag  percentage\n",
       "0  #Covid19         0.385711  \n",
       "1  #CovidVaccine    0.449492  \n",
       "2  #PfizerBioNTech  0.430279  "
      ]
     },
     "execution_count": 13,
     "metadata": {},
     "output_type": "execute_result"
    }
   ],
   "source": [
    "#positive tweets\n",
    "pos_tweets = tweets.query(\"compound > 0.05\").groupby('hashtag').size()/tweets.groupby('hashtag').size()\n",
    "pos_tweets = pos_tweets.to_frame().reset_index()\n",
    "pos_tweets = pos_tweets.rename(columns={0:'percentage'})\n",
    "pos_tweets"
   ]
  },
  {
   "cell_type": "code",
   "execution_count": 14,
   "metadata": {},
   "outputs": [
    {
     "data": {
      "text/html": [
       "<div>\n",
       "<style scoped>\n",
       "    .dataframe tbody tr th:only-of-type {\n",
       "        vertical-align: middle;\n",
       "    }\n",
       "\n",
       "    .dataframe tbody tr th {\n",
       "        vertical-align: top;\n",
       "    }\n",
       "\n",
       "    .dataframe thead th {\n",
       "        text-align: right;\n",
       "    }\n",
       "</style>\n",
       "<table border=\"1\" class=\"dataframe\">\n",
       "  <thead>\n",
       "    <tr style=\"text-align: right;\">\n",
       "      <th></th>\n",
       "      <th>hashtag</th>\n",
       "      <th>percentage</th>\n",
       "    </tr>\n",
       "  </thead>\n",
       "  <tbody>\n",
       "    <tr>\n",
       "      <th>0</th>\n",
       "      <td>#Covid19</td>\n",
       "      <td>0.267046</td>\n",
       "    </tr>\n",
       "    <tr>\n",
       "      <th>1</th>\n",
       "      <td>#CovidVaccine</td>\n",
       "      <td>0.201019</td>\n",
       "    </tr>\n",
       "    <tr>\n",
       "      <th>2</th>\n",
       "      <td>#PfizerBioNTech</td>\n",
       "      <td>0.174161</td>\n",
       "    </tr>\n",
       "  </tbody>\n",
       "</table>\n",
       "</div>"
      ],
      "text/plain": [
       "           hashtag  percentage\n",
       "0  #Covid19         0.267046  \n",
       "1  #CovidVaccine    0.201019  \n",
       "2  #PfizerBioNTech  0.174161  "
      ]
     },
     "execution_count": 14,
     "metadata": {},
     "output_type": "execute_result"
    }
   ],
   "source": [
    "#negative tweets\n",
    "neg_tweets = tweets.query(\"compound < -0.05\").groupby('hashtag').size()/tweets.groupby('hashtag').size()\n",
    "neg_tweets = neg_tweets.to_frame().reset_index()\n",
    "neg_tweets = neg_tweets.rename(columns={0:'percentage'})\n",
    "neg_tweets"
   ]
  },
  {
   "cell_type": "code",
   "execution_count": 15,
   "metadata": {},
   "outputs": [
    {
     "data": {
      "text/plain": [
       "hashtag\n",
       "#Covid19           47830\n",
       "#CovidVaccine      7731 \n",
       "#PfizerBioNTech    612  \n",
       "dtype: int64"
      ]
     },
     "execution_count": 15,
     "metadata": {},
     "output_type": "execute_result"
    }
   ],
   "source": [
    "tweets.query(\"compound < -0.05\").groupby('hashtag').size()"
   ]
  },
  {
   "cell_type": "code",
   "execution_count": 16,
   "metadata": {},
   "outputs": [
    {
     "name": "stderr",
     "output_type": "stream",
     "text": [
      "[nltk_data] Downloading package punkt to /home/luis/nltk_data...\n",
      "[nltk_data]   Package punkt is already up-to-date!\n",
      "[nltk_data] Downloading package averaged_perceptron_tagger to\n",
      "[nltk_data]     /home/luis/nltk_data...\n",
      "[nltk_data]   Package averaged_perceptron_tagger is already up-to-\n",
      "[nltk_data]       date!\n",
      "[nltk_data] Downloading package maxent_ne_chunker to\n",
      "[nltk_data]     /home/luis/nltk_data...\n",
      "[nltk_data]   Package maxent_ne_chunker is already up-to-date!\n",
      "[nltk_data] Downloading package words to /home/luis/nltk_data...\n",
      "[nltk_data]   Package words is already up-to-date!\n"
     ]
    },
    {
     "data": {
      "text/plain": [
       "True"
      ]
     },
     "execution_count": 16,
     "metadata": {},
     "output_type": "execute_result"
    }
   ],
   "source": [
    "import nltk\n",
    "nltk.download('punkt')\n",
    "nltk.download('averaged_perceptron_tagger')\n",
    "nltk.download('maxent_ne_chunker')\n",
    "nltk.download('words')"
   ]
  },
  {
   "cell_type": "code",
   "execution_count": 17,
   "metadata": {
    "scrolled": true
   },
   "outputs": [],
   "source": [
    "#import geograpy\n",
    "\n",
    "#locations = tweets.copy(deep=True)\n",
    "#locations = locations.dropna(subset=['user_location'])\n",
    "#locations['country_parsed'] = locations['user_location'].apply(lambda str: geograpy.get_geoPlace_context(text=str).countries)\n",
    "\n",
    "#locations = locations[locations.country_parsed.str.len() > 0]\n",
    "#locations['country_parsed'] = locations['country_parsed'].apply(lambda arr: arr[0])\n",
    "\n",
    "#locations.to_excel('pfi_locations.xlsx')\n",
    "#locations.to_csv('locations.csv')"
   ]
  },
  {
   "cell_type": "code",
   "execution_count": 20,
   "metadata": {},
   "outputs": [
    {
     "name": "stderr",
     "output_type": "stream",
     "text": [
      "/home/luis/anaconda3/lib/python3.7/site-packages/IPython/core/interactiveshell.py:3146: DtypeWarning: Columns (1,2,3,4,5,6,7,8,9,10,11,12,13,14,15,16,18,19,21,24) have mixed types.Specify dtype option on import or set low_memory=False.\n",
      "  interactivity=interactivity, compiler=compiler, result=result)\n"
     ]
    },
    {
     "data": {
      "text/html": [
       "<div>\n",
       "<style scoped>\n",
       "    .dataframe tbody tr th:only-of-type {\n",
       "        vertical-align: middle;\n",
       "    }\n",
       "\n",
       "    .dataframe tbody tr th {\n",
       "        vertical-align: top;\n",
       "    }\n",
       "\n",
       "    .dataframe thead th {\n",
       "        text-align: right;\n",
       "    }\n",
       "</style>\n",
       "<table border=\"1\" class=\"dataframe\">\n",
       "  <thead>\n",
       "    <tr style=\"text-align: right;\">\n",
       "      <th></th>\n",
       "      <th>Unnamed: 0</th>\n",
       "      <th>user_name</th>\n",
       "      <th>user_location</th>\n",
       "      <th>user_description</th>\n",
       "      <th>user_created</th>\n",
       "      <th>user_followers</th>\n",
       "      <th>user_friends</th>\n",
       "      <th>user_favourites</th>\n",
       "      <th>user_verified</th>\n",
       "      <th>date</th>\n",
       "      <th>...</th>\n",
       "      <th>id</th>\n",
       "      <th>retweets</th>\n",
       "      <th>favorites</th>\n",
       "      <th>text_processed</th>\n",
       "      <th>scores</th>\n",
       "      <th>neg</th>\n",
       "      <th>neu</th>\n",
       "      <th>pos</th>\n",
       "      <th>compound</th>\n",
       "      <th>country_parsed</th>\n",
       "    </tr>\n",
       "  </thead>\n",
       "  <tbody>\n",
       "    <tr>\n",
       "      <th>0</th>\n",
       "      <td>1</td>\n",
       "      <td>Tom Basile 🇺🇸</td>\n",
       "      <td>New York, NY</td>\n",
       "      <td>Husband, Father, Columnist &amp; Commentator. Author of Tough Sell: Fighting the Media War in Iraq. Bush Admin Alum. Newsmax Contributor. Fmr Exec Dir NYSGOP</td>\n",
       "      <td>2009-04-16 20:06:23</td>\n",
       "      <td>2253</td>\n",
       "      <td>1677</td>\n",
       "      <td>24</td>\n",
       "      <td>True</td>\n",
       "      <td>2020-07-25 12:27:17</td>\n",
       "      <td>...</td>\n",
       "      <td>NaN</td>\n",
       "      <td>NaN</td>\n",
       "      <td>NaN</td>\n",
       "      <td>Hey  PR and  - wouldn't it have made more sense to have the players pay their respects to the A…</td>\n",
       "      <td>{'neg': 0.065, 'neu': 0.829, 'pos': 0.106, 'compound': 0.2263}</td>\n",
       "      <td>0.065</td>\n",
       "      <td>0.829</td>\n",
       "      <td>0.106</td>\n",
       "      <td>0.2263</td>\n",
       "      <td>United Kingdom</td>\n",
       "    </tr>\n",
       "    <tr>\n",
       "      <th>1</th>\n",
       "      <td>4</td>\n",
       "      <td>DIPR-J&amp;K</td>\n",
       "      <td>Jammu and Kashmir</td>\n",
       "      <td>🖊️Official Twitter handle of Department of Information and Public Relations, Govt of Jammu &amp; Kashmir</td>\n",
       "      <td>2017-02-12 06:45:15</td>\n",
       "      <td>101009</td>\n",
       "      <td>168</td>\n",
       "      <td>101</td>\n",
       "      <td>False</td>\n",
       "      <td>2020-07-25 12:27:08</td>\n",
       "      <td>...</td>\n",
       "      <td>NaN</td>\n",
       "      <td>NaN</td>\n",
       "      <td>NaN</td>\n",
       "      <td>25 July : Media Bulletin on Novel #CoronaVirusUpdates #COVID19    …</td>\n",
       "      <td>{'neg': 0.0, 'neu': 0.796, 'pos': 0.204, 'compound': 0.3182}</td>\n",
       "      <td>0.000</td>\n",
       "      <td>0.796</td>\n",
       "      <td>0.204</td>\n",
       "      <td>0.3182</td>\n",
       "      <td>India</td>\n",
       "    </tr>\n",
       "    <tr>\n",
       "      <th>2</th>\n",
       "      <td>6</td>\n",
       "      <td>hr bartender</td>\n",
       "      <td>Gainesville, FL</td>\n",
       "      <td>Workplace tips and advice served up in a friendly place. Corporate blog of @ITMGroup by @Sharlyn_Lauby. Cheers!</td>\n",
       "      <td>2008-08-12 18:19:49</td>\n",
       "      <td>79956</td>\n",
       "      <td>54810</td>\n",
       "      <td>3801</td>\n",
       "      <td>False</td>\n",
       "      <td>2020-07-25 12:27:03</td>\n",
       "      <td>...</td>\n",
       "      <td>NaN</td>\n",
       "      <td>NaN</td>\n",
       "      <td>NaN</td>\n",
       "      <td>How #COVID19 Will Change Work in General (and recruiting, specifically) via/  #Recruiting…</td>\n",
       "      <td>{'neg': 0.0, 'neu': 1.0, 'pos': 0.0, 'compound': 0.0}</td>\n",
       "      <td>0.000</td>\n",
       "      <td>1.0</td>\n",
       "      <td>0.000</td>\n",
       "      <td>0.0000</td>\n",
       "      <td>United States</td>\n",
       "    </tr>\n",
       "    <tr>\n",
       "      <th>3</th>\n",
       "      <td>11</td>\n",
       "      <td>Creativegms</td>\n",
       "      <td>Dhaka,Bangladesh</td>\n",
       "      <td>I'm Motalib Mia, Logo -Logo Designer - Branding - Brand Identity Designer. I like to use my creativity, Client Satisfaction is my focus.motalibmas@gmail.com</td>\n",
       "      <td>2020-01-12 09:03:01</td>\n",
       "      <td>241</td>\n",
       "      <td>1694</td>\n",
       "      <td>8443</td>\n",
       "      <td>False</td>\n",
       "      <td>2020-07-25 12:26:50</td>\n",
       "      <td>...</td>\n",
       "      <td>NaN</td>\n",
       "      <td>NaN</td>\n",
       "      <td>NaN</td>\n",
       "      <td>Order here: #logo #graphicdesigner #logodesign #logodesinger #icon  #minimalist #Abstract…</td>\n",
       "      <td>{'neg': 0.0, 'neu': 1.0, 'pos': 0.0, 'compound': 0.0}</td>\n",
       "      <td>0.000</td>\n",
       "      <td>1.0</td>\n",
       "      <td>0.000</td>\n",
       "      <td>0.0000</td>\n",
       "      <td>Bangladesh</td>\n",
       "    </tr>\n",
       "    <tr>\n",
       "      <th>4</th>\n",
       "      <td>13</td>\n",
       "      <td>Africa Youth Advisory Board on DRR</td>\n",
       "      <td>Africa</td>\n",
       "      <td>Official account of the Africa Youth Advisory Board on Disaster Risk Reduction (DRR) of @_AfricanUnion . Facilitating meaningful engagement of African Youth.</td>\n",
       "      <td>2019-05-13 06:27:47</td>\n",
       "      <td>830</td>\n",
       "      <td>254</td>\n",
       "      <td>3692</td>\n",
       "      <td>False</td>\n",
       "      <td>2020-07-25 12:26:47</td>\n",
       "      <td>...</td>\n",
       "      <td>NaN</td>\n",
       "      <td>NaN</td>\n",
       "      <td>NaN</td>\n",
       "      <td>Let's all protect ourselves from #COVID19.It's real and the numbers are climbing up fast in the Continent.Let's n…</td>\n",
       "      <td>{'neg': 0.0, 'neu': 0.88, 'pos': 0.12, 'compound': 0.3818}</td>\n",
       "      <td>0.000</td>\n",
       "      <td>0.88</td>\n",
       "      <td>0.120</td>\n",
       "      <td>0.3818</td>\n",
       "      <td>Costa Rica</td>\n",
       "    </tr>\n",
       "    <tr>\n",
       "      <th>...</th>\n",
       "      <td>...</td>\n",
       "      <td>...</td>\n",
       "      <td>...</td>\n",
       "      <td>...</td>\n",
       "      <td>...</td>\n",
       "      <td>...</td>\n",
       "      <td>...</td>\n",
       "      <td>...</td>\n",
       "      <td>...</td>\n",
       "      <td>...</td>\n",
       "      <td>...</td>\n",
       "      <td>...</td>\n",
       "      <td>...</td>\n",
       "      <td>...</td>\n",
       "      <td>...</td>\n",
       "      <td>...</td>\n",
       "      <td>...</td>\n",
       "      <td>...</td>\n",
       "      <td>...</td>\n",
       "      <td>...</td>\n",
       "      <td>...</td>\n",
       "    </tr>\n",
       "    <tr>\n",
       "      <th>284789</th>\n",
       "      <td>2967</td>\n",
       "      <td>Carlos Gutierrez</td>\n",
       "      <td>Phoenix, AZ</td>\n",
       "      <td>boxer lover, animal advocate, world explorer, physician assistant, PA Education, RT ≠ endorsement #medtwitter</td>\n",
       "      <td>2012-05-01 03:18:08</td>\n",
       "      <td>76</td>\n",
       "      <td>687</td>\n",
       "      <td>488</td>\n",
       "      <td>False</td>\n",
       "      <td>2021-01-03 02:29:14</td>\n",
       "      <td>...</td>\n",
       "      <td>1.3455578027946394e+18</td>\n",
       "      <td>0.0</td>\n",
       "      <td>5.0</td>\n",
       "      <td>Unfortunately, I got infected at the time of my first appointment, but I finally received my #CovidVaccine today.…</td>\n",
       "      <td>{'neg': 0.192, 'neu': 0.808, 'pos': 0.0, 'compound': -0.4215}</td>\n",
       "      <td>0.192</td>\n",
       "      <td>0.808</td>\n",
       "      <td>0.000</td>\n",
       "      <td>-0.4215</td>\n",
       "      <td>South Africa</td>\n",
       "    </tr>\n",
       "    <tr>\n",
       "      <th>284790</th>\n",
       "      <td>2969</td>\n",
       "      <td>Melissa L. Wilk, PharmD</td>\n",
       "      <td>Providence, RI</td>\n",
       "      <td>Clinical Pharmacist @RIHospital. Patient Advocate. Feminist. 🐶 Mom. Wife to EM Dr. @mtwilk                                  -Views are my own-</td>\n",
       "      <td>2012-09-07 04:10:22</td>\n",
       "      <td>63</td>\n",
       "      <td>118</td>\n",
       "      <td>364</td>\n",
       "      <td>False</td>\n",
       "      <td>2021-01-03 01:02:42</td>\n",
       "      <td>...</td>\n",
       "      <td>1.3455360279691223e+18</td>\n",
       "      <td>10.0</td>\n",
       "      <td>170.0</td>\n",
       "      <td>2nd dose of #PfizerBioNTech #CovidVaccine done. No side effects almost 12 hours later. Let the immunity begin!!! Th…</td>\n",
       "      <td>{'neg': 0.153, 'neu': 0.847, 'pos': 0.0, 'compound': -0.4724}</td>\n",
       "      <td>0.153</td>\n",
       "      <td>0.847</td>\n",
       "      <td>0.000</td>\n",
       "      <td>-0.4724</td>\n",
       "      <td>United States</td>\n",
       "    </tr>\n",
       "    <tr>\n",
       "      <th>284791</th>\n",
       "      <td>2971</td>\n",
       "      <td>Becky With The Good Hair</td>\n",
       "      <td>Seaside, California, USA</td>\n",
       "      <td>Gores sacred oxen, teacher, muck-raker, Santa Cruz 11,  #EndTheLockdown Anti-masker!  NO mandatory vaccines! Pro-freedom Pro-justice  ❤= I read it</td>\n",
       "      <td>2010-01-27 02:03:34</td>\n",
       "      <td>4567</td>\n",
       "      <td>4750</td>\n",
       "      <td>211283</td>\n",
       "      <td>False</td>\n",
       "      <td>2021-01-02 23:38:39</td>\n",
       "      <td>...</td>\n",
       "      <td>1.345514875137663e+18</td>\n",
       "      <td>22.0</td>\n",
       "      <td>31.0</td>\n",
       "      <td>Here's one in Canada.The woman actually died &amp;amp; was revived with CPR.#PfizerBioNTech</td>\n",
       "      <td>{'neg': 0.217, 'neu': 0.783, 'pos': 0.0, 'compound': -0.5574}</td>\n",
       "      <td>0.217</td>\n",
       "      <td>0.783</td>\n",
       "      <td>0.000</td>\n",
       "      <td>-0.5574</td>\n",
       "      <td>Brazil</td>\n",
       "    </tr>\n",
       "    <tr>\n",
       "      <th>284792</th>\n",
       "      <td>2974</td>\n",
       "      <td>Buttercup</td>\n",
       "      <td>Earth</td>\n",
       "      <td>mother of a 🦮 yellow lab. wife of 🕵️‍♂️ PI. work in healthcare.</td>\n",
       "      <td>2018-04-17 03:48:35</td>\n",
       "      <td>22</td>\n",
       "      <td>90</td>\n",
       "      <td>2779</td>\n",
       "      <td>False</td>\n",
       "      <td>2021-01-02 22:20:01</td>\n",
       "      <td>...</td>\n",
       "      <td>1.3454950862016717e+18</td>\n",
       "      <td>0.0</td>\n",
       "      <td>2.0</td>\n",
       "      <td>Vaccinated!  Got my first dose. #PfizerBioNTech #vaccine</td>\n",
       "      <td>{'neg': 0.0, 'neu': 1.0, 'pos': 0.0, 'compound': 0.0}</td>\n",
       "      <td>0.000</td>\n",
       "      <td>1.0</td>\n",
       "      <td>0.000</td>\n",
       "      <td>0.0000</td>\n",
       "      <td>United States</td>\n",
       "    </tr>\n",
       "    <tr>\n",
       "      <th>284793</th>\n",
       "      <td>2975</td>\n",
       "      <td>Alex Perkins</td>\n",
       "      <td>Canterbury</td>\n",
       "      <td>Married to Jo Treharne, Football mad, Alderman of Canterbury &amp; former Council Leader. Hate Brexit, Trump, Tories and injustice! And I miss Bowie! #AFCB #PAFC</td>\n",
       "      <td>2009-02-05 11:27:29</td>\n",
       "      <td>1966</td>\n",
       "      <td>1192</td>\n",
       "      <td>4617</td>\n",
       "      <td>False</td>\n",
       "      <td>2021-01-02 22:13:43</td>\n",
       "      <td>...</td>\n",
       "      <td>1.3454935009519944e+18</td>\n",
       "      <td>0.0</td>\n",
       "      <td>2.0</td>\n",
       "      <td>Astounding behind the scenes film. The Pfizer Vaccine may be incredibly effective but it takes 2 pharmacists 10 min…</td>\n",
       "      <td>{'neg': 0.0, 'neu': 0.806, 'pos': 0.194, 'compound': 0.476}</td>\n",
       "      <td>0.000</td>\n",
       "      <td>0.806</td>\n",
       "      <td>0.194</td>\n",
       "      <td>0.4760</td>\n",
       "      <td>United Kingdom</td>\n",
       "    </tr>\n",
       "  </tbody>\n",
       "</table>\n",
       "<p>284794 rows × 25 columns</p>\n",
       "</div>"
      ],
      "text/plain": [
       "       Unnamed: 0                           user_name  \\\n",
       "0       1          Tom Basile 🇺🇸                        \n",
       "1       4          DIPR-J&K                             \n",
       "2       6          hr bartender                         \n",
       "3       11         Creativegms                          \n",
       "4       13         Africa Youth Advisory Board on DRR   \n",
       "...     ..                                        ...   \n",
       "284789  2967       Carlos Gutierrez                     \n",
       "284790  2969       Melissa L. Wilk, PharmD              \n",
       "284791  2971       Becky With The Good Hair             \n",
       "284792  2974       Buttercup                            \n",
       "284793  2975       Alex Perkins                         \n",
       "\n",
       "                   user_location  \\\n",
       "0       New York, NY               \n",
       "1       Jammu and Kashmir          \n",
       "2       Gainesville, FL            \n",
       "3       Dhaka,Bangladesh           \n",
       "4       Africa                     \n",
       "...        ...                     \n",
       "284789  Phoenix, AZ                \n",
       "284790  Providence, RI             \n",
       "284791  Seaside, California, USA   \n",
       "284792  Earth                      \n",
       "284793  Canterbury                 \n",
       "\n",
       "                                                                                                                                                     user_description  \\\n",
       "0       Husband, Father, Columnist & Commentator. Author of Tough Sell: Fighting the Media War in Iraq. Bush Admin Alum. Newsmax Contributor. Fmr Exec Dir NYSGOP       \n",
       "1       🖊️Official Twitter handle of Department of Information and Public Relations, Govt of Jammu & Kashmir                                                            \n",
       "2       Workplace tips and advice served up in a friendly place. Corporate blog of @ITMGroup by @Sharlyn_Lauby. Cheers!                                                 \n",
       "3       I'm Motalib Mia, Logo -Logo Designer - Branding - Brand Identity Designer. I like to use my creativity, Client Satisfaction is my focus.motalibmas@gmail.com    \n",
       "4       Official account of the Africa Youth Advisory Board on Disaster Risk Reduction (DRR) of @_AfricanUnion . Facilitating meaningful engagement of African Youth.   \n",
       "...                                                                                                                                                               ...   \n",
       "284789  boxer lover, animal advocate, world explorer, physician assistant, PA Education, RT ≠ endorsement #medtwitter                                                   \n",
       "284790  Clinical Pharmacist @RIHospital. Patient Advocate. Feminist. 🐶 Mom. Wife to EM Dr. @mtwilk                                  -Views are my own-                  \n",
       "284791  Gores sacred oxen, teacher, muck-raker, Santa Cruz 11,  #EndTheLockdown Anti-masker!  NO mandatory vaccines! Pro-freedom Pro-justice  ❤= I read it              \n",
       "284792  mother of a 🦮 yellow lab. wife of 🕵️‍♂️ PI. work in healthcare.                                                                                                 \n",
       "284793  Married to Jo Treharne, Football mad, Alderman of Canterbury & former Council Leader. Hate Brexit, Trump, Tories and injustice! And I miss Bowie! #AFCB #PAFC   \n",
       "\n",
       "               user_created user_followers user_friends user_favourites  \\\n",
       "0       2009-04-16 20:06:23  2253           1677         24               \n",
       "1       2017-02-12 06:45:15  101009         168          101              \n",
       "2       2008-08-12 18:19:49  79956          54810        3801             \n",
       "3       2020-01-12 09:03:01  241            1694         8443             \n",
       "4       2019-05-13 06:27:47  830            254          3692             \n",
       "...                     ...  ...            ...           ...             \n",
       "284789  2012-05-01 03:18:08  76             687          488              \n",
       "284790  2012-09-07 04:10:22  63             118          364              \n",
       "284791  2010-01-27 02:03:34  4567           4750         211283           \n",
       "284792  2018-04-17 03:48:35  22             90           2779             \n",
       "284793  2009-02-05 11:27:29  1966           1192         4617             \n",
       "\n",
       "       user_verified                 date  ...                      id  \\\n",
       "0       True          2020-07-25 12:27:17  ...  NaN                      \n",
       "1       False         2020-07-25 12:27:08  ...  NaN                      \n",
       "2       False         2020-07-25 12:27:03  ...  NaN                      \n",
       "3       False         2020-07-25 12:26:50  ...  NaN                      \n",
       "4       False         2020-07-25 12:26:47  ...  NaN                      \n",
       "...       ...                         ...  ...  ...                      \n",
       "284789  False         2021-01-03 02:29:14  ...  1.3455578027946394e+18   \n",
       "284790  False         2021-01-03 01:02:42  ...  1.3455360279691223e+18   \n",
       "284791  False         2021-01-02 23:38:39  ...  1.345514875137663e+18    \n",
       "284792  False         2021-01-02 22:20:01  ...  1.3454950862016717e+18   \n",
       "284793  False         2021-01-02 22:13:43  ...  1.3454935009519944e+18   \n",
       "\n",
       "       retweets favorites  \\\n",
       "0       NaN     NaN         \n",
       "1       NaN     NaN         \n",
       "2       NaN     NaN         \n",
       "3       NaN     NaN         \n",
       "4       NaN     NaN         \n",
       "...     ...      ..         \n",
       "284789  0.0      5.0        \n",
       "284790  10.0     170.0      \n",
       "284791  22.0     31.0       \n",
       "284792  0.0      2.0        \n",
       "284793  0.0      2.0        \n",
       "\n",
       "                                                                                                               text_processed  \\\n",
       "0       Hey  PR and  - wouldn't it have made more sense to have the players pay their respects to the A…                        \n",
       "1       25 July : Media Bulletin on Novel #CoronaVirusUpdates #COVID19    …                                                     \n",
       "2       How #COVID19 Will Change Work in General (and recruiting, specifically) via/  #Recruiting…                              \n",
       "3       Order here: #logo #graphicdesigner #logodesign #logodesinger #icon  #minimalist #Abstract…                              \n",
       "4       Let's all protect ourselves from #COVID19.It's real and the numbers are climbing up fast in the Continent.Let's n…      \n",
       "...                                                                                                                     ...     \n",
       "284789  Unfortunately, I got infected at the time of my first appointment, but I finally received my #CovidVaccine today.…      \n",
       "284790  2nd dose of #PfizerBioNTech #CovidVaccine done. No side effects almost 12 hours later. Let the immunity begin!!! Th…    \n",
       "284791   Here's one in Canada.The woman actually died &amp; was revived with CPR.#PfizerBioNTech                                \n",
       "284792  Vaccinated!  Got my first dose. #PfizerBioNTech #vaccine                                                                \n",
       "284793  Astounding behind the scenes film. The Pfizer Vaccine may be incredibly effective but it takes 2 pharmacists 10 min…    \n",
       "\n",
       "                                                                scores    neg  \\\n",
       "0       {'neg': 0.065, 'neu': 0.829, 'pos': 0.106, 'compound': 0.2263}  0.065   \n",
       "1       {'neg': 0.0, 'neu': 0.796, 'pos': 0.204, 'compound': 0.3182}    0.000   \n",
       "2       {'neg': 0.0, 'neu': 1.0, 'pos': 0.0, 'compound': 0.0}           0.000   \n",
       "3       {'neg': 0.0, 'neu': 1.0, 'pos': 0.0, 'compound': 0.0}           0.000   \n",
       "4       {'neg': 0.0, 'neu': 0.88, 'pos': 0.12, 'compound': 0.3818}      0.000   \n",
       "...                                                            ...        ...   \n",
       "284789  {'neg': 0.192, 'neu': 0.808, 'pos': 0.0, 'compound': -0.4215}   0.192   \n",
       "284790  {'neg': 0.153, 'neu': 0.847, 'pos': 0.0, 'compound': -0.4724}   0.153   \n",
       "284791  {'neg': 0.217, 'neu': 0.783, 'pos': 0.0, 'compound': -0.5574}   0.217   \n",
       "284792  {'neg': 0.0, 'neu': 1.0, 'pos': 0.0, 'compound': 0.0}           0.000   \n",
       "284793  {'neg': 0.0, 'neu': 0.806, 'pos': 0.194, 'compound': 0.476}     0.000   \n",
       "\n",
       "          neu    pos compound  country_parsed  \n",
       "0       0.829  0.106  0.2263   United Kingdom  \n",
       "1       0.796  0.204  0.3182   India           \n",
       "2       1.0    0.000  0.0000   United States   \n",
       "3       1.0    0.000  0.0000   Bangladesh      \n",
       "4       0.88   0.120  0.3818   Costa Rica      \n",
       "...      ...     ...     ...          ...      \n",
       "284789  0.808  0.000 -0.4215   South Africa    \n",
       "284790  0.847  0.000 -0.4724   United States   \n",
       "284791  0.783  0.000 -0.5574   Brazil          \n",
       "284792  1.0    0.000  0.0000   United States   \n",
       "284793  0.806  0.194  0.4760   United Kingdom  \n",
       "\n",
       "[284794 rows x 25 columns]"
      ]
     },
     "execution_count": 20,
     "metadata": {},
     "output_type": "execute_result"
    }
   ],
   "source": [
    "# parsing countries from every user_location takes very long,\n",
    "#   so instead of recomputing on every execution of the nb, save and read csv\n",
    "#locations = pd.read_excel('pfi_locations.xlsx')\n",
    "locations = pd.read_csv('locations.csv')\n",
    "locations"
   ]
  },
  {
   "cell_type": "code",
   "execution_count": 21,
   "metadata": {
    "scrolled": true
   },
   "outputs": [],
   "source": [
    "\"\"\"\n",
    "The function below was created specifically for the one-way ANOVA table results returned for Type II sum of squares\n",
    "\"\"\"\n",
    "\n",
    "def anova_table(aov):\n",
    "    aov['mean_sq'] = aov[:]['sum_sq']/aov[:]['df']\n",
    "\n",
    "    aov['eta_sq'] = aov[:-1]['sum_sq']/sum(aov['sum_sq'])\n",
    "\n",
    "    aov['omega_sq'] = (aov[:-1]['sum_sq']-(aov[:-1]['df']*aov['mean_sq'][-1]))/(sum(aov['sum_sq'])+aov['mean_sq'][-1])\n",
    "\n",
    "    cols = ['sum_sq', 'df', 'mean_sq', 'F', 'PR(>F)', 'eta_sq', 'omega_sq']\n",
    "    aov = aov[cols]\n",
    "    return aov"
   ]
  },
  {
   "cell_type": "code",
   "execution_count": 22,
   "metadata": {},
   "outputs": [],
   "source": [
    "#anova testing guided by https://www.pythonfordatascience.org/anova-python/"
   ]
  },
  {
   "cell_type": "markdown",
   "metadata": {},
   "source": [
    "sideline - link to subplot 1\n",
    "\n",
    "relation of country and compound sentiment on pfizer vaccine"
   ]
  },
  {
   "cell_type": "markdown",
   "metadata": {},
   "source": [
    "sideline - link to subplot 2\n",
    "\n",
    "hashtag as a predictor of compound sentiment"
   ]
  },
  {
   "cell_type": "markdown",
   "metadata": {},
   "source": [
    "sideline - link to subplot 3\n",
    "\n",
    "sentiment trends about #CovidVaccination over time"
   ]
  },
  {
   "cell_type": "markdown",
   "metadata": {},
   "source": [
    "### Dashboard"
   ]
  },
  {
   "cell_type": "code",
   "execution_count": 40,
   "metadata": {
    "scrolled": false
   },
   "outputs": [],
   "source": [
    "import plotly.express as px\n",
    "import dash\n",
    "import dash_bootstrap_components as dbc\n",
    "import dash_core_components as dcc\n",
    "import dash_html_components as html\n",
    "import plotly.graph_objects as go\n",
    "from dash.dependencies import Input, Output\n",
    "from jupyter_dash import JupyterDash\n",
    "\n",
    "app = JupyterDash(external_stylesheets=[dbc.themes.BOOTSTRAP, 'https://codepen.io/chriddyp/pen/bWLwgP.css'])\n",
    "\n",
    "# Build App\n",
    "app.layout = dbc.Container([\n",
    "    #dbc.Row(html.H1('Covid Tweet Sentiment Analysis')),\n",
    "    dbc.Row([\n",
    "        dbc.Col([\n",
    "            dcc.RadioItems(\n",
    "                id='bars-radio',\n",
    "                options=[\n",
    "                    {'label': 'Positive Tweets  ', 'value': 'positive'},\n",
    "                    {'label': 'Negative Tweets  ', 'value': 'negative'},\n",
    "                ],\n",
    "                value='positive',\n",
    "                inputStyle={'margin-left': '20px', 'margin-right': '5px'}\n",
    "            ),\n",
    "            dcc.Graph(id='bars')\n",
    "        ], width=4, align='end'),\n",
    "        dbc.Col(dcc.Graph(id='world_map'), width=8, align='end'),\n",
    "    ]),\n",
    "    dbc.Row([\n",
    "        dbc.Col([\n",
    "            dbc.Row(dcc.Graph(id='scatter'), align='end'),\n",
    "        ], width=6),\n",
    "        dbc.Col([\n",
    "            dbc.Row(dcc.Graph(id='table'), align='end'),\n",
    "        ], width=6),\n",
    "    ]),\n",
    "    html.Div(id='none',children=[],style={'display': 'none'}),\n",
    "], style={'width': '95%', 'maxWidth': '95%'})\n",
    "\n",
    "@app.callback(\n",
    "    Output('bars', 'figure'),\n",
    "    Input('bars-radio', 'value'),\n",
    ")\n",
    "def update_bars(value):\n",
    "    if (value == 'positive'):\n",
    "        df = pos_tweets\n",
    "        color = '#636EFA'\n",
    "    elif (value == 'negative'):\n",
    "        df = neg_tweets\n",
    "        color = '#EF553B'\n",
    "    bars = px.bar(df, x='hashtag', y='percentage',\n",
    "                  color_discrete_sequence=[color],\n",
    "                  labels=dict(hashtag='Hashtag', percentage='% of all tweets that are '+value),\n",
    "                  title='Percentage Sentiment of all Tweets (click to filter other charts)'\n",
    "                 )\n",
    "    bars.update_layout(clickmode='event+select')\n",
    "    \n",
    "    return bars\n",
    "\n",
    "@app.callback(\n",
    "    Output('scatter', 'figure'),\n",
    "    [Input('bars', 'selectedData')],\n",
    ")\n",
    "def update_scatter(selectedData):\n",
    "    selected = '#PfizerBioNTech'\n",
    "    if (selectedData):\n",
    "        selected = selectedData['points'][0]['x']\n",
    "    if (selected == '#Covid19'):\n",
    "        df = cov_byDate.reset_index()\n",
    "    elif (selected == '#CovidVaccine'):\n",
    "        df = vax_byDate.reset_index()\n",
    "    elif (selected == '#PfizerBioNTech'):\n",
    "        df = pfi_byDate.reset_index()\n",
    "    scatter = px.scatter(\n",
    "        df, x='date', y='compound',\n",
    "        color='size', size='size',\n",
    "        render_mode='webgl', title=selected+' Sentiment over Time (>0.05 is positive)',\n",
    "        labels=dict(date='Date', compound='Average Sentiment per Tweet', size='Tweets Count')\n",
    "    )\n",
    "    scatter.update_yaxes(range=[0,0.5])\n",
    "    scatter.add_shape(type=\"line\",\n",
    "                  xref='paper',\n",
    "                  x0=0, \n",
    "                  y0=0.05, \n",
    "                  x1=1, \n",
    "                  y1=0.05\n",
    "                 )\n",
    "    return scatter\n",
    "\n",
    "@app.callback(\n",
    "    Output('world_map', 'figure'),\n",
    "    [Input('bars', 'selectedData')],\n",
    ")\n",
    "def update_world_map(selectedData):\n",
    "    selected = '#PfizerBioNTech'\n",
    "    if (selectedData):\n",
    "        selected = selectedData['points'][0]['x']\n",
    "    if (selected == '#Covid19'):\n",
    "        df = locations.query('hashtag == \"#Covid19\"').head(5000)\n",
    "    elif (selected == '#CovidVaccine'):\n",
    "        df = locations.query('hashtag == \"#CovidVaccine\"')\n",
    "    elif (selected == '#PfizerBioNTech'):\n",
    "        df = locations.query('hashtag == \"#PfizerBioNTech\"')\n",
    "    world_map = px.choropleth(df, locations=df['country_parsed'],\n",
    "                        locationmode='country names',\n",
    "                        color=df['compound'],\n",
    "                        title=selected+' overall Sentiment per Country'\n",
    "                       )\n",
    "    return world_map\n",
    "\n",
    "@app.callback(\n",
    "    Output('table', 'figure'),\n",
    "    [Input('bars', 'selectedData')],\n",
    ")\n",
    "def update_table(selectedData):\n",
    "    df = tweets[['text', 'user_name', 'compound', 'date', 'hashtag']]\n",
    "    selected = '#PfizerBioNTech'\n",
    "    if (selectedData):\n",
    "        selected = selectedData['points'][0]['x']\n",
    "    if (selected == '#Covid19'):\n",
    "        df = df.query('hashtag == \"#Covid19\"').head(1000)\n",
    "    elif (selected == '#CovidVaccine'):\n",
    "        df = df.query('hashtag == \"#CovidVaccine\"')\n",
    "    elif (selected == '#PfizerBioNTech'):\n",
    "        df = df.query('hashtag == \"#PfizerBioNTech\"')\n",
    "    table = go.Figure(data=[go.Table(\n",
    "    header=dict(values=list(df.columns),\n",
    "                fill_color='paleturquoise',\n",
    "                align='left'),\n",
    "    cells=dict(values=[df.text, df.user_name, df.compound, df.date, df.hashtag],\n",
    "               fill_color='lavender',\n",
    "               align='left'),\n",
    "    columnwidth=[400, 200, 200, 300, 250])\n",
    "    ])\n",
    "    table.update_layout(title='All Tweets tagged '+selected)\n",
    "\n",
    "    return table\n",
    "\n"
   ]
  },
  {
   "cell_type": "code",
   "execution_count": 41,
   "metadata": {},
   "outputs": [
    {
     "name": "stdout",
     "output_type": "stream",
     "text": [
      "Dash app running on http://127.0.0.1:8050/\n"
     ]
    }
   ],
   "source": [
    "app.run_server(mode='external') #mode: inline, external"
   ]
  },
  {
   "cell_type": "code",
   "execution_count": null,
   "metadata": {},
   "outputs": [],
   "source": []
  },
  {
   "cell_type": "code",
   "execution_count": 25,
   "metadata": {
    "tags": [
     "subplot-1"
    ]
   },
   "outputs": [
    {
     "data": {
      "text/html": [
       "<div>\n",
       "<style scoped>\n",
       "    .dataframe tbody tr th:only-of-type {\n",
       "        vertical-align: middle;\n",
       "    }\n",
       "\n",
       "    .dataframe tbody tr th {\n",
       "        vertical-align: top;\n",
       "    }\n",
       "\n",
       "    .dataframe thead th {\n",
       "        text-align: right;\n",
       "    }\n",
       "</style>\n",
       "<table border=\"1\" class=\"dataframe\">\n",
       "  <thead>\n",
       "    <tr style=\"text-align: right;\">\n",
       "      <th></th>\n",
       "      <th>sum_sq</th>\n",
       "      <th>df</th>\n",
       "      <th>mean_sq</th>\n",
       "      <th>F</th>\n",
       "      <th>PR(&gt;F)</th>\n",
       "      <th>eta_sq</th>\n",
       "      <th>omega_sq</th>\n",
       "    </tr>\n",
       "  </thead>\n",
       "  <tbody>\n",
       "    <tr>\n",
       "      <th>C(country_parsed)</th>\n",
       "      <td>142.390333</td>\n",
       "      <td>146.0</td>\n",
       "      <td>0.975276</td>\n",
       "      <td>5.922987</td>\n",
       "      <td>5.931281e-102</td>\n",
       "      <td>0.007317</td>\n",
       "      <td>0.006082</td>\n",
       "    </tr>\n",
       "    <tr>\n",
       "      <th>Residual</th>\n",
       "      <td>19317.362647</td>\n",
       "      <td>117317.0</td>\n",
       "      <td>0.164660</td>\n",
       "      <td>NaN</td>\n",
       "      <td>NaN</td>\n",
       "      <td>NaN</td>\n",
       "      <td>NaN</td>\n",
       "    </tr>\n",
       "  </tbody>\n",
       "</table>\n",
       "</div>"
      ],
      "text/plain": [
       "                         sum_sq        df   mean_sq         F         PR(>F)  \\\n",
       "C(country_parsed)  142.390333    146.0     0.975276  5.922987  5.931281e-102   \n",
       "Residual           19317.362647  117317.0  0.164660 NaN       NaN              \n",
       "\n",
       "                     eta_sq  omega_sq  \n",
       "C(country_parsed)  0.007317  0.006082  \n",
       "Residual          NaN       NaN        "
      ]
     },
     "execution_count": 25,
     "metadata": {},
     "output_type": "execute_result"
    }
   ],
   "source": [
    "# insight 1\n",
    "\n",
    "#get countries occuring more than 5 times\n",
    "vc = locations['country_parsed'].value_counts()\n",
    "vc = vc[vc>5]\n",
    "significant_countries = vc.index\n",
    "significant_countries\n",
    "\n",
    "#compute anova\n",
    "df = locations[locations['country_parsed'].isin(significant_countries)]\n",
    "model = ols('compound ~ C(country_parsed)', data=df).fit()\n",
    "aov_table = sm.stats.anova_lm(model, typ=2)\n",
    "anova_table(aov_table)"
   ]
  },
  {
   "cell_type": "code",
   "execution_count": 26,
   "metadata": {
    "tags": [
     "subplot-1"
    ]
   },
   "outputs": [
    {
     "data": {
      "text/plain": [
       "True"
      ]
     },
     "execution_count": 26,
     "metadata": {},
     "output_type": "execute_result"
    }
   ],
   "source": [
    "alpha = 0.05\n",
    "aov_table['PR(>F)']['C(country_parsed)'] < alpha"
   ]
  },
  {
   "cell_type": "code",
   "execution_count": 39,
   "metadata": {
    "tags": [
     "subplot-1"
    ]
   },
   "outputs": [],
   "source": [
    "#comp = mc.MultiComparison(locations['compound'], locations['country_parsed'])\n",
    "#post_hoc_res = comp.tukeyhsd()\n",
    "#res = pd.DataFrame(post_hoc_res.summary())\n",
    "#res.columns = res.iloc[0]\n",
    "#res = res[1:]\n",
    "#res.to_csv('test.csv') #for some reason, dataframe cannot be searched -> save and reload from csv\n",
    "#res = pd.read_csv('test.csv')\n",
    "#res = res.drop(res.columns[0], axis=1)\n",
    "#res.query('reject == True')"
   ]
  },
  {
   "cell_type": "markdown",
   "metadata": {
    "tags": [
     "subplot-1"
    ]
   },
   "source": [
    "F > 1 and PR(>F), a p-value, is much smaller than alpha (0.05). we reject the null hypothesis that country and sentiment are unrelated on tweets about #PfizerBioNTech. Also, there is a significant difference in compound sentiment between the countries in group1 and group2 above that would be worth investigating further."
   ]
  },
  {
   "cell_type": "code",
   "execution_count": 33,
   "metadata": {
    "tags": [
     "subplot-2"
    ]
   },
   "outputs": [
    {
     "data": {
      "text/html": [
       "<div>\n",
       "<style scoped>\n",
       "    .dataframe tbody tr th:only-of-type {\n",
       "        vertical-align: middle;\n",
       "    }\n",
       "\n",
       "    .dataframe tbody tr th {\n",
       "        vertical-align: top;\n",
       "    }\n",
       "\n",
       "    .dataframe thead th {\n",
       "        text-align: right;\n",
       "    }\n",
       "</style>\n",
       "<table border=\"1\" class=\"dataframe\">\n",
       "  <thead>\n",
       "    <tr style=\"text-align: right;\">\n",
       "      <th></th>\n",
       "      <th>sum_sq</th>\n",
       "      <th>df</th>\n",
       "      <th>mean_sq</th>\n",
       "      <th>F</th>\n",
       "      <th>PR(&gt;F)</th>\n",
       "      <th>eta_sq</th>\n",
       "      <th>omega_sq</th>\n",
       "    </tr>\n",
       "  </thead>\n",
       "  <tbody>\n",
       "    <tr>\n",
       "      <th>C(hashtag)</th>\n",
       "      <td>184.264409</td>\n",
       "      <td>2.0</td>\n",
       "      <td>92.132205</td>\n",
       "      <td>550.613249</td>\n",
       "      <td>2.919464e-239</td>\n",
       "      <td>0.004956</td>\n",
       "      <td>0.004947</td>\n",
       "    </tr>\n",
       "    <tr>\n",
       "      <th>Residual</th>\n",
       "      <td>36992.214736</td>\n",
       "      <td>221078.0</td>\n",
       "      <td>0.167327</td>\n",
       "      <td>NaN</td>\n",
       "      <td>NaN</td>\n",
       "      <td>NaN</td>\n",
       "      <td>NaN</td>\n",
       "    </tr>\n",
       "  </tbody>\n",
       "</table>\n",
       "</div>"
      ],
      "text/plain": [
       "                  sum_sq        df    mean_sq           F         PR(>F)  \\\n",
       "C(hashtag)  184.264409    2.0       92.132205  550.613249  2.919464e-239   \n",
       "Residual    36992.214736  221078.0  0.167327  NaN         NaN              \n",
       "\n",
       "              eta_sq  omega_sq  \n",
       "C(hashtag)  0.004956  0.004947  \n",
       "Residual   NaN       NaN        "
      ]
     },
     "execution_count": 33,
     "metadata": {},
     "output_type": "execute_result"
    }
   ],
   "source": [
    "# insight 2\n",
    "model = ols('compound ~ C(hashtag)', data=tweets).fit()\n",
    "aov_table = sm.stats.anova_lm(model, typ=2)\n",
    "anova_table(aov_table)"
   ]
  },
  {
   "cell_type": "code",
   "execution_count": 34,
   "metadata": {
    "tags": [
     "subplot-2"
    ]
   },
   "outputs": [
    {
     "data": {
      "image/png": "[encoded data removed]",
      "text/plain": [
       "<Figure size 720x720 with 1 Axes>"
      ]
     },
     "metadata": {},
     "output_type": "display_data"
    }
   ],
   "source": [
    "fig = plt.figure(figsize= (10, 10))\n",
    "ax = fig.add_subplot(111)\n",
    "\n",
    "normality_plot, stat = stats.probplot(model.resid, plot= plt, rvalue= True)\n",
    "ax.set_title(\"Probability plot of model residual's\", fontsize= 20)\n",
    "ax.set\n",
    "\n",
    "plt.show()"
   ]
  },
  {
   "cell_type": "code",
   "execution_count": 35,
   "metadata": {
    "tags": [
     "subplot-2"
    ]
   },
   "outputs": [
    {
     "data": {
      "text/html": [
       "<table class=\"simpletable\">\n",
       "<caption>Multiple Comparison of Means - Tukey HSD, FWER=0.05</caption>\n",
       "<tr>\n",
       "     <th>group1</th>         <th>group2</th>      <th>meandiff</th>  <th>p-adj</th>  <th>lower</th>   <th>upper</th> <th>reject</th>\n",
       "</tr>\n",
       "<tr>\n",
       "    <td>#Covid19</td>     <td>#CovidVaccine</td>   <td>0.0722</td>   <td>0.001</td> <td>0.0668</td>  <td>0.0776</td>  <td>True</td> \n",
       "</tr>\n",
       "<tr>\n",
       "    <td>#Covid19</td>    <td>#PfizerBioNTech</td>  <td>0.0875</td>   <td>0.001</td> <td>0.0712</td>  <td>0.1039</td>  <td>True</td> \n",
       "</tr>\n",
       "<tr>\n",
       "  <td>#CovidVaccine</td> <td>#PfizerBioNTech</td>  <td>0.0154</td>  <td>0.0836</td> <td>-0.0015</td> <td>0.0323</td>  <td>False</td>\n",
       "</tr>\n",
       "</table>"
      ],
      "text/plain": [
       "<class 'statsmodels.iolib.table.SimpleTable'>"
      ]
     },
     "execution_count": 35,
     "metadata": {},
     "output_type": "execute_result"
    }
   ],
   "source": [
    "comp = mc.MultiComparison(tweets['compound'], tweets['hashtag'])\n",
    "post_hoc_res = comp.tukeyhsd()\n",
    "post_hoc_res.summary()\n",
    "\n",
    "# interesting: the means of covid vs. vaccine hashtag differ strongly from each other,\n",
    "#    while the #pifzer and #covidvaccine have very similar means "
   ]
  },
  {
   "cell_type": "code",
   "execution_count": 37,
   "metadata": {
    "scrolled": false,
    "tags": [
     "subplot-3"
    ]
   },
   "outputs": [
    {
     "name": "stdout",
     "output_type": "stream",
     "text": [
      "Mann_Kendall_Test(trend='increasing', h=True, p=0.052941474280992606, z=1.9353980022674755, Tau=0.14054336468129572, s=538.0, var_s=76985.33333333333, slope=0.0003373529406310832, intercept=0.09882879915197824)\n"
     ]
    },
    {
     "data": {
      "image/png": "[encoded data removed]",
      "text/plain": [
       "<Figure size 432x288 with 1 Axes>"
      ]
     },
     "metadata": {},
     "output_type": "display_data"
    }
   ],
   "source": [
    "# insight 3\n",
    "import pymannkendall as mk\n",
    "\n",
    "df = vax_byDate.reset_index()\n",
    "df = df.sort_values('date', ascending=True)\n",
    "plt.plot(df['date'], df['compound'])\n",
    "plt.xticks(rotation='vertical')\n",
    "\n",
    "result = mk.original_test(df['compound'], alpha=0.1)\n",
    "print(result)"
   ]
  },
  {
   "cell_type": "markdown",
   "metadata": {
    "tags": [
     "subplot-3"
    ]
   },
   "source": [
    "Setting alpha to 0.1 instead of 0.05 (90% confidence instead of 95%) shows a statistically significant trend of sentiment in tweets tagged #CovidVaccination becoming more positive (compound sentiment trending upward). The actual p-value is ~0.053, so setting alpha slightly higher here only serves the purpose of illustrating the trend by having the MK-Test function return \"increasing\", which would otherwise have been classified as \"no trend\" since it would barely miss the 0.05 cutoff. But since the margin between the \"ideal\" maximum p-value and the actual calculated p-value is not that large, I adjusted the function parameter to return what I feel is the more accurate result (especially because the data I am working with is rather imperfect). Thus, I conclude that there is a not insignificant upward trend observable here."
   ]
  }
 ],
 "metadata": {
  "kernelspec": {
   "display_name": "Python 3",
   "language": "python",
   "name": "python3"
  },
  "language_info": {
   "codemirror_mode": {
    "name": "ipython",
    "version": 3
   },
   "file_extension": ".py",
   "mimetype": "text/x-python",
   "name": "python",
   "nbconvert_exporter": "python",
   "pygments_lexer": "ipython3",
   "version": "3.7.7"
  }
 },
 "nbformat": 4,
 "nbformat_minor": 4
}
